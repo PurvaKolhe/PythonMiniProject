{
 "cells": [
  {
   "cell_type": "code",
   "execution_count": 1,
   "id": "2d3c72fa",
   "metadata": {},
   "outputs": [
    {
     "name": "stdout",
     "output_type": "stream",
     "text": [
      "Enter the degree sequence (comma-separated): 5,4,3,3,2,2,2,1,1,1\n",
      "Step 0: [0, 0, 0, 0]\n",
      "Step 1: [3, 2, 2, 2, 1, 1, 1, 1, 1]\n",
      "Step 2: [1, 1, 1, 1, 1, 1, 1, 1]\n",
      "Step 3: [1, 1, 1, 1, 1, 1, 0]\n",
      "Step 4: [1, 1, 1, 1, 0, 0]\n",
      "Step 5: [1, 1, 0, 0, 0]\n",
      "Step 6: Graphical\n"
     ]
    }
   ],
   "source": [
    "def havel_hakimi(degrees):\n",
    "    \"\"\"\n",
    "    Havel-Hakimi algorithm to determine if a given degree sequence is graphical.\n",
    "    \"\"\"\n",
    "    # Step 1: Sort the degree sequence in non-increasing order\n",
    "    degrees.sort(reverse=True)\n",
    "    \n",
    "    # Initialize steps list with the original degree sequence\n",
    "    steps = [degrees]\n",
    "    \n",
    "    # Step 2: Check if the degree sequence is graphical\n",
    "    if sum(degrees) % 2 != 0:\n",
    "        return steps + ['Not graphical']\n",
    "    \n",
    "    # Step 3: Perform the Havel-Hakimi algorithm\n",
    "    while degrees:\n",
    "        # Step 3.1: Remove the first element and call it d\n",
    "        d = degrees.pop(0)\n",
    "        \n",
    "        # Step 3.2: If d is greater than the length of the remaining sequence, the sequence is not graphical\n",
    "        if d > len(degrees):\n",
    "            return steps + ['Not graphical']\n",
    "        \n",
    "        # Step 3.3: Subtract 1 from the first d elements of the sequence\n",
    "        for i in range(d):\n",
    "            degrees[i] -= 1\n",
    "            \n",
    "        # Step 3.4: Sort the sequence in non-increasing order\n",
    "        degrees.sort(reverse=True)\n",
    "        \n",
    "        # Step 3.5: If the sequence is empty or all elements are 0, the sequence is graphical\n",
    "        if all(x == 0 for x in degrees):\n",
    "            return steps + ['Graphical']\n",
    "        \n",
    "        # Add the updated sequence to the steps list\n",
    "        steps.append(degrees[:])\n",
    "    \n",
    "    return steps + ['Graphical']\n",
    "\n",
    "# Prompt the user for input\n",
    "input_str = input('Enter the degree sequence (comma-separated): ')\n",
    "\n",
    "# Convert the input to a list of integers\n",
    "degrees = list(map(int, input_str.split(',')))\n",
    "\n",
    "# Apply the Havel-Hakimi algorithm and print the steps\n",
    "steps = havel_hakimi(degrees)\n",
    "\n",
    "for i, step in enumerate(steps):\n",
    "    print(f'Step {i}: {step}')"
   ]
  },
  {
   "cell_type": "code",
   "execution_count": null,
   "id": "5132578e",
   "metadata": {},
   "outputs": [],
   "source": []
  }
 ],
 "metadata": {
  "kernelspec": {
   "display_name": "Python 3 (ipykernel)",
   "language": "python",
   "name": "python3"
  },
  "language_info": {
   "codemirror_mode": {
    "name": "ipython",
    "version": 3
   },
   "file_extension": ".py",
   "mimetype": "text/x-python",
   "name": "python",
   "nbconvert_exporter": "python",
   "pygments_lexer": "ipython3",
   "version": "3.10.4"
  }
 },
 "nbformat": 4,
 "nbformat_minor": 5
}
